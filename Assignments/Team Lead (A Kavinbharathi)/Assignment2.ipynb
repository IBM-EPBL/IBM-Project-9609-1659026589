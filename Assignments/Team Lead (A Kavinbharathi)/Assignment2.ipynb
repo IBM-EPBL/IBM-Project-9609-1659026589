{
  "cells": [
    {
      "cell_type": "code",
      "execution_count": 7,
      "metadata": {
        "colab": {
          "base_uri": "https://localhost:8080/"
        },
        "id": "xUIYbXVA3OI3",
        "outputId": "23c43e45-8a7e-40b4-a6dc-1b3a07262983"
      },
      "outputs": [
        {
          "output_type": "stream",
          "name": "stdout",
          "text": [
            "Temperature is lesser than threshhold 517\n"
          ]
        }
      ],
      "source": [
        "import random\n",
        "def alert(temp, humidity):\n",
        "  if temp>1000:\n",
        "    print(\"Temperature is greater than threshhold and the Temperature is\", temp)\n",
        "  else:\n",
        "    print(\"Temperature is lesser than threshhold\", temp)\n",
        "\n",
        "temp = random.randint(0,1500)\n",
        "humidity = random.randint(0,100)\n",
        "alert(temp,humidity)"
      ]
    },
    {
      "cell_type": "code",
      "execution_count": null,
      "metadata": {
        "id": "GBnwvMxu4rRH"
      },
      "outputs": [],
      "source": []
    }
  ],
  "metadata": {
    "colab": {
      "collapsed_sections": [],
      "provenance": []
    },
    "kernelspec": {
      "display_name": "Python 3",
      "name": "python3"
    },
    "language_info": {
      "name": "python"
    }
  },
  "nbformat": 4,
  "nbformat_minor": 0
}